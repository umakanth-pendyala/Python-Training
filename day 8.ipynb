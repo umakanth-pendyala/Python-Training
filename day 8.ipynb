{
 "cells": [
  {
   "cell_type": "code",
   "execution_count": 4,
   "metadata": {},
   "outputs": [
    {
     "name": "stdout",
     "output_type": "stream",
     "text": [
      "[30, 40, 50]\n",
      "[10, 20, 30, 40, 50, 60, 70, 500]\n",
      "[10, 20, 30, 40, 50, 60, 70, 500]\n"
     ]
    }
   ],
   "source": [
    "list = [10,20,30,40,50,60,70]\n",
    "print (list [2:5])\n",
    "\n",
    "def Update (myList = []) :\n",
    "    myList.append(500);\n",
    "    print (myList);\n",
    "    return ;\n",
    "Update(list);\n",
    "print(list);"
   ]
  },
  {
   "cell_type": "code",
   "execution_count": 5,
   "metadata": {},
   "outputs": [
    {
     "name": "stdout",
     "output_type": "stream",
     "text": [
      "enter any value-20\n"
     ]
    }
   ],
   "source": [
    "time = int(input(\"enter any value\"))\n",
    "#assert (time>0) , print (\"the time should be greater than zero\")"
   ]
  },
  {
   "cell_type": "code",
   "execution_count": null,
   "metadata": {},
   "outputs": [],
   "source": [
    "# bubble sort algorythm\n",
    "\n",
    "size = int(input(\"enter a input\"))\n",
    "list = []\n",
    "for count in range (0,size) :\n",
    "    list.append(int(input('enter a number')))\n",
    "\n",
    "for i in range (0,size) :\n",
    "    for j in range (0,size -(i+1)) :\n",
    "        if (list[j]>list[j+1]) :\n",
    "            temp = list[j];\n",
    "            list[j] = list[j+1];\n",
    "            list[j+1] = temp;\n",
    "print (list)"
   ]
  },
  {
   "cell_type": "code",
   "execution_count": 3,
   "metadata": {},
   "outputs": [
    {
     "name": "stdout",
     "output_type": "stream",
     "text": [
      "enter a input5\n",
      "enter a number45\n",
      "enter a number67\n",
      "enter a number89\n",
      "enter a number12\n",
      "enter a number45\n",
      "enter the target element56\n",
      "element not found in the list\n"
     ]
    }
   ],
   "source": [
    "# binary search algorythm\n",
    "\n",
    "\n",
    "size = int(input(\"enter a input\\t\"))\n",
    "list = []\n",
    "for count in range (0,size) :\n",
    "    list.append(int(input('enter a number\\t')))\n",
    "for i in range (0,size) :\n",
    "    for j in range (0,size -(i+1)) :\n",
    "        if (list[j]>list[j+1]) :\n",
    "            temp = list[j];\n",
    "            list[j] = list[j+1];\n",
    "            list[j+1] = temp;;\n",
    "\n",
    "\n",
    "Target = int(input(\"enter the target element\\t\"))\n",
    "\n",
    "def BinarySearch (TargetElement,myList = []) :\n",
    "    low,high = 0,len(myList)-1;\n",
    "    while (low <= high) :\n",
    "        mid = (low + high)//2;\n",
    "        if (TargetElement == myList[mid]) : return 1;\n",
    "        elif (TargetElement > myList[mid]) : low = low + mid;\n",
    "        else : high = high -mid;\n",
    "    else :return 0;\n",
    "        \n",
    "if (BinarySearch(Target,list)) : print (\"element found in the list\")\n",
    "else : print (\"element not found in the list\")"
   ]
  },
  {
   "cell_type": "code",
   "execution_count": 8,
   "metadata": {},
   "outputs": [
    {
     "name": "stdout",
     "output_type": "stream",
     "text": [
      "division by zero error\n"
     ]
    }
   ],
   "source": [
    "try :\n",
    "    num = 10//0;\n",
    "except : print ('division by zero error')\n",
    "else : print ('bye bye')"
   ]
  },
  {
   "cell_type": "code",
   "execution_count": 10,
   "metadata": {},
   "outputs": [
    {
     "name": "stdout",
     "output_type": "stream",
     "text": [
      "8\n"
     ]
    }
   ],
   "source": [
    "name = 'umakanth'\n",
    "print (len(name))"
   ]
  },
  {
   "cell_type": "code",
   "execution_count": 1,
   "metadata": {},
   "outputs": [
    {
     "name": "stdout",
     "output_type": "stream",
     "text": [
      "True\n",
      "1\n"
     ]
    }
   ],
   "source": [
    "s = \"foo\"\n",
    "t = \"bar\"\n",
    "print ('barf' in 2*(s+t))\n",
    "if (t[:] == t) : print (1)"
   ]
  },
  {
   "cell_type": "code",
   "execution_count": 2,
   "metadata": {},
   "outputs": [
    {
     "name": "stdout",
     "output_type": "stream",
     "text": [
      "the string is palendrome\n"
     ]
    }
   ],
   "source": [
    "def PalendromeCheck (strCheck) :\n",
    "    if (strCheck == strCheck[::-1]) : return True;\n",
    "\n",
    "name = 'umu'\n",
    "if (PalendromeCheck (name)) : print (\"the string is palendrome\")\n",
    "else :print (\"the string is not a palendrome\")"
   ]
  },
  {
   "cell_type": "code",
   "execution_count": 47,
   "metadata": {},
   "outputs": [
    {
     "name": "stdout",
     "output_type": "stream",
     "text": [
      "enter a string:\t12345678\n",
      "length = \t 8\n"
     ]
    }
   ],
   "source": [
    "# calluculate number of charecters in a string\n",
    "\n",
    "def GetLength (stri) :\n",
    "    return len(stri)\n",
    "\n",
    "name = input(\"enter a string:\\t\")\n",
    "print (\"length = \\t\",GetLength(name))"
   ]
  },
  {
   "cell_type": "code",
   "execution_count": 1,
   "metadata": {},
   "outputs": [
    {
     "name": "stdout",
     "output_type": "stream",
     "text": [
      "enter a string:\tUmAkAnTh\n",
      "upper case count in UmAkAnTh is : 4\n",
      "lower case count in UmAkAnTh is : 4\n",
      "digit count in UmAkAnTh is : 0\n"
     ]
    }
   ],
   "source": [
    "# to count the upper case in a string\n",
    "\n",
    "string = input(\"enter a string:\\t\")\n",
    "\n",
    "def CountUpper (stri) :\n",
    "    count = 0;\n",
    "    for i in range (0,len(string)) :\n",
    "        if (ord(string[i]) >=65 and ord(string[i]) < 91) : count += 1;\n",
    "    return count;\n",
    "\n",
    "\n",
    "def CountLower (stri) :\n",
    "    count = 0;\n",
    "    for i in range (0,len(string)) :\n",
    "        if (ord(string[i]) >=97 and ord(string[i]) <= 123) : count += 1;\n",
    "    return count;\n",
    "\n",
    "def DigitCount (stri) :\n",
    "    count = 0;\n",
    "    for i in range (0,len(string)) :\n",
    "        if (ord(string[i]) >= 48 and ord(string[i]) <= 57) : count += 1;\n",
    "    return count;\n",
    "\n",
    "\n",
    "print (\"upper case count in \"+ string + \" is :\",CountUpper(string))\n",
    "print (\"lower case count in \"+ string + \" is :\",CountLower(string))\n",
    "print (\"digit count in \"+ string + \" is :\",DigitCount(string))"
   ]
  },
  {
   "cell_type": "code",
   "execution_count": 1,
   "metadata": {},
   "outputs": [
    {
     "name": "stdout",
     "output_type": "stream",
     "text": [
      "enter a string:\tumakanth123\n",
      "number of digits in umakanth123 is  123\n"
     ]
    }
   ],
   "source": [
    "# print digits in a string\n",
    "\n",
    "string = input(\"enter a string:\\t\")\n",
    "\n",
    "def DigitCount (stri) :\n",
    "    count = '';\n",
    "    for i in range (0,len(string)) :\n",
    "        if (ord(string[i]) >= 48 and ord(string[i]) <= 57) : count += string[i];\n",
    "    return count;\n",
    "\n",
    "print (\"number of digits in \"+string+ \" is :\\t\",DigitCount(string))"
   ]
  },
  {
   "cell_type": "code",
   "execution_count": 3,
   "metadata": {},
   "outputs": [
    {
     "name": "stdout",
     "output_type": "stream",
     "text": [
      "lt\n"
     ]
    }
   ],
   "source": [
    "stri = \"agplication\"\n",
    "print (stri[3::4])"
   ]
  },
  {
   "cell_type": "code",
   "execution_count": 6,
   "metadata": {},
   "outputs": [
    {
     "name": "stdout",
     "output_type": "stream",
     "text": [
      "enter a string:\tte1871\n",
      "sum of digits in te1871 is:\t 17\n"
     ]
    }
   ],
   "source": [
    "# to find sum of digits in a string\n",
    "\n",
    "string = input(\"enter a string:\\t\")\n",
    "\n",
    "\n",
    "def DigitSum (stri) :\n",
    "    count = 0;\n",
    "    for i in range (0,len(stri)) :\n",
    "        if (ord(stri[i]) >= 48 and ord(stri[i]) <= 57) : count += int(stri[i]);\n",
    "    return count;\n",
    "\n",
    "print (\"sum of digits in \"+string+ \" is:\\t\",DigitSum(string))"
   ]
  },
  {
   "cell_type": "code",
   "execution_count": 6,
   "metadata": {},
   "outputs": [
    {
     "name": "stdout",
     "output_type": "stream",
     "text": [
      "enter a string:\takashit1456\n",
      "sum of even digits in akashit1456 is :\t 10\n"
     ]
    }
   ],
   "source": [
    "#to find sum of even digits in a string\n",
    "\n",
    "string = input(\"enter a string:\\t\")\n",
    "    \n",
    "def FindEvenSum (stri) :\n",
    "    sum = 0;\n",
    "    for i in range(0,len(stri)) :\n",
    "        if (ord(stri[i]) >= 48 and ord(stri[i]) <= 57 ) : \n",
    "            if (int(stri[i])%2 == 0) :\n",
    "                sum += int(stri[i]);\n",
    "    return sum;\n",
    "    \n",
    "print (\"sum of even digits in \"+ string + \" is :\\t\",FindEvenSum(string))\n",
    "    "
   ]
  },
  {
   "cell_type": "code",
   "execution_count": 8,
   "metadata": {},
   "outputs": [
    {
     "name": "stdout",
     "output_type": "stream",
     "text": [
      "10\n"
     ]
    }
   ],
   "source": [
    "string = input(\"enter a string:\\t\")\n",
    "\n"
   ]
  },
  {
   "cell_type": "code",
   "execution_count": null,
   "metadata": {},
   "outputs": [],
   "source": []
  }
 ],
 "metadata": {
  "kernelspec": {
   "display_name": "Python 3",
   "language": "python",
   "name": "python3"
  },
  "language_info": {
   "codemirror_mode": {
    "name": "ipython",
    "version": 3
   },
   "file_extension": ".py",
   "mimetype": "text/x-python",
   "name": "python",
   "nbconvert_exporter": "python",
   "pygments_lexer": "ipython3",
   "version": "3.7.3"
  }
 },
 "nbformat": 4,
 "nbformat_minor": 2
}
